{
  "cells": [
    {
      "cell_type": "markdown",
      "id": "1cdcf395",
      "metadata": {},
      "source": [
        "# Systems of nonlinear equations_1"
      ]
    },
    {
      "cell_type": "code",
      "execution_count": 14,
      "id": "6dc2b84d",
      "metadata": {
        "trusted": true
      },
      "outputs": [],
      "source": [
        "import numpy as np\n",
        "from scipy.optimize import fsolve"
      ]
    },
    {
      "cell_type": "code",
      "execution_count": 19,
      "id": "a9c958b8",
      "metadata": {
        "trusted": true
      },
      "outputs": [],
      "source": [
        "def FN(variables) :\n",
        "    (x,y)= variables\n",
        "    f1 = np.sin(x+2)-y-1.5\n",
        "    f2 = 0.5-np.cos(y-2)-x\n",
        "    return [f1,f2]"
      ]
    },
    {
      "cell_type": "code",
      "execution_count": 28,
      "id": "c7c69d69",
      "metadata": {
        "trusted": true
      },
      "outputs": [
        {
          "name": "stdout",
          "output_type": "stream",
          "text": [
            "[ 1.34633764 -1.70331748]\n"
          ]
        }
      ],
      "source": [
        "result = fsolve(FN, (1, 1)) \n",
        "print(result)"
      ]
    },
    {
      "cell_type": "code",
      "execution_count": 29,
      "id": "4812c73e",
      "metadata": {
        "trusted": true
      },
      "outputs": [
        {
          "name": "stdout",
          "output_type": "stream",
          "text": [
            "[-1.1102230246251565e-15, 4.218847493575595e-15]\n"
          ]
        }
      ],
      "source": [
        "print (FN(result))"
      ]
    },
    {
      "cell_type": "code",
      "execution_count": null,
      "id": "607e5a56",
      "metadata": {},
      "outputs": [],
      "source": [
        "\n",
        "from myplot import plot_verticles\n",
        "\n",
        "vertices = np.array(\n",
        "    [\n",
        "        [-3, -3, 0],\n",
        "        [+3, -3, 0],\n",
        "        [+3, +3, 0],\n",
        "        [-3, +3, 0],\n",
        "        [+0, +0, +3]\n",
        "    ]\n",
        ")\n",
        "\n",
        "plot_verticles(vertices = vertices, isosurf = False)"
      ]
    },
    {
      "cell_type": "code",
      "execution_count": null,
      "id": "5967fc55-d904-4a48-8bd1-e3188481faba",
      "metadata": {},
      "outputs": [],
      "source": [
        "result = fsolve(FN, (1, 1)) \n",
        "print(result)\n"
      ]
    },
    {
      "cell_type": "code",
      "execution_count": null,
      "id": "7f6b21b4-d151-46d2-b0fd-4da50ae49043",
      "metadata": {},
      "outputs": [],
      "source": []
    }
  ],
  "metadata": {
    "kernelspec": {
      "display_name": "Pyolite",
      "language": "python",
      "name": "python"
    },
    "language_info": {
      "codemirror_mode": {
        "name": "python",
        "version": 3
      },
      "file_extension": ".py",
      "mimetype": "text/x-python",
      "name": "python",
      "nbconvert_exporter": "python",
      "pygments_lexer": "ipython3",
      "version": "3.8"
    }
  },
  "nbformat": 4,
  "nbformat_minor": 5
}
