{
  "cells": [
    {
      "cell_type": "markdown",
      "id": "1cdcf395",
      "metadata": {},
      "source": [
        "# Systems of nonlinear equations"
      ]
    },
    {
      "cell_type": "code",
      "execution_count": 14,
      "id": "6dc2b84d",
      "metadata": {
        "trusted": true
      },
      "outputs": [],
      "source": [
        "import numpy as np\n",
        "from scipy.optimize import fsolve"
      ]
    },
    {
      "cell_type": "code",
      "execution_count": 33,
      "id": "a9c958b8",
      "metadata": {
        "trusted": true
      },
      "outputs": [],
      "source": [
        "def FN(variables) :\n",
        "    (x,y)= variables\n",
        "    f1 = np.sin(x+y)-1.2*x-0.1\n",
        "    f2 = x*x+y*y-1\n",
        "    return [f1,f2]"
      ]
    },
    {
      "cell_type": "code",
      "execution_count": 34,
      "id": "c7c69d69",
      "metadata": {
        "trusted": true
      },
      "outputs": [
        {
          "name": "stdout",
          "output_type": "stream",
          "text": [
            "[0.73960032 0.67304633]\n"
          ]
        }
      ],
      "source": [
        "result = fsolve(FN, (1, 1)) \n",
        "print(result)"
      ]
    },
    {
      "cell_type": "code",
      "execution_count": 29,
      "id": "4812c73e",
      "metadata": {
        "trusted": true
      },
      "outputs": [
        {
          "name": "stdout",
          "output_type": "stream",
          "text": [
            "[-1.1102230246251565e-15, 4.218847493575595e-15]\n"
          ]
        }
      ],
      "source": [
        "print (FN(result))"
      ]
    },
    {
      "cell_type": "code",
      "execution_count": 35,
      "id": "607e5a56",
      "metadata": {
        "trusted": true
      },
      "outputs": [
        {
          "name": "stdout",
          "output_type": "stream",
          "text": [
            "[-0.89480955 -0.44644807]\n"
          ]
        }
      ],
      "source": [
        "result = fsolve(FN, (-1, -1)) \n",
        "print(result)"
      ]
    },
    {
      "cell_type": "code",
      "execution_count": 36,
      "id": "5967fc55-d904-4a48-8bd1-e3188481faba",
      "metadata": {
        "trusted": true
      },
      "outputs": [
        {
          "name": "stdout",
          "output_type": "stream",
          "text": [
            "[-6.022959908591474e-15, -1.7430501486614958e-14]\n"
          ]
        }
      ],
      "source": [
        "print (FN(result))"
      ]
    },
    {
      "cell_type": "code",
      "execution_count": null,
      "id": "7f6b21b4-d151-46d2-b0fd-4da50ae49043",
      "metadata": {},
      "outputs": [],
      "source": []
    }
  ],
  "metadata": {
    "kernelspec": {
      "display_name": "Pyolite",
      "language": "python",
      "name": "python"
    },
    "language_info": {
      "codemirror_mode": {
        "name": "python",
        "version": 3
      },
      "file_extension": ".py",
      "mimetype": "text/x-python",
      "name": "python",
      "nbconvert_exporter": "python",
      "pygments_lexer": "ipython3",
      "version": "3.8"
    }
  },
  "nbformat": 4,
  "nbformat_minor": 5
}
